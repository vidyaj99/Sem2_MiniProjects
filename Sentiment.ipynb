{
 "cells": [
  {
   "cell_type": "markdown",
   "id": "3bd6a0da",
   "metadata": {},
   "source": [
    "# Sentiment analysis in Python"
   ]
  },
  {
   "cell_type": "markdown",
   "id": "ec7b1b4e",
   "metadata": {},
   "source": [
    "Description:\n",
    "\n",
    "Sentiment analysis:\n",
    "Sentiment analysis (also known as opinion mining or emotion AI) is the use of natural language processing, text analysis, computational linguistics, and biometrics to systematically identify, extract, quantify, and study affective states and subjective information. - Wikipedia\n",
    "\n",
    "Python:\n",
    "Python is a high-level, general-purpose programming language. Its design philosophy emphasizes code readability with the use of significant indentation. Its language constructs and object-oriented approach aim to help programmers write clear, logical code for small- and large-scale projects - Wikipedia\n",
    "\n",
    "NLTK:\n",
    "The Natural Language Toolkit, or more commonly NLTK, is a suite of libraries and programs for symbolic and statistical natural language processing (NLP) for English written in the Python programming language. It was developed by Steven Bird and Edward Loper in the Department of Computer and Information Science at the University of Pennsylvania. - Wikipedia\n",
    "\n",
    "Text Corpus:\n",
    "Text corpora (singular: text corpus) are large and structured sets of texts, which have been systematically collected. Text corpora are used by corpus linguists and within other branches of linguistics for statistical analysis, hypothesis testing, finding patterns of language use, investigating language change and variation, and teaching language proficiency. Wikipedia\n",
    "\n",
    "VADER:\n",
    "VADER Sentiment Analysis. VADER (Valence Aware Dictionary and sEntiment Reasoner) is a lexicon and rule-based sentiment analysis tool that is specifically attuned to sentiments expressed in social media, and works well on texts from other domains. GitHub\n",
    "\n",
    "colorama:\n",
    "Simple cross-platform colored terminal text in Python - GitHub"
   ]
  },
  {
   "cell_type": "markdown",
   "id": "9daaeb57",
   "metadata": {},
   "source": [
    "Importing nltk to get resources\n",
    "to get the resources you’ll need, use nltk.download()"
   ]
  },
  {
   "cell_type": "code",
   "execution_count": 1,
   "id": "7b371a20",
   "metadata": {},
   "outputs": [
    {
     "name": "stdout",
     "output_type": "stream",
     "text": [
      "showing info https://raw.githubusercontent.com/nltk/nltk_data/gh-pages/index.xml\n"
     ]
    },
    {
     "data": {
      "text/plain": [
       "True"
      ]
     },
     "execution_count": 1,
     "metadata": {},
     "output_type": "execute_result"
    }
   ],
   "source": [
    "import nltk\n",
    "nltk.download()"
   ]
  },
  {
   "cell_type": "markdown",
   "id": "cc7325ce",
   "metadata": {},
   "source": [
    "# Importing some required libraries"
   ]
  },
  {
   "cell_type": "code",
   "execution_count": 2,
   "id": "0258f935",
   "metadata": {},
   "outputs": [],
   "source": [
    "import nltk\n",
    "from nltk.corpus import stopwords, twitter_samples\n",
    "from nltk.sentiment import SentimentIntensityAnalyzer\n",
    "from statistics import mean\n",
    "from random import shuffle\n",
    "from colorama import Fore"
   ]
  },
  {
   "cell_type": "markdown",
   "id": "42db0a1a",
   "metadata": {},
   "source": [
    "Load and test the VADER sentiment analyzer"
   ]
  },
  {
   "cell_type": "code",
   "execution_count": 3,
   "id": "8ad2498e",
   "metadata": {},
   "outputs": [
    {
     "data": {
      "text/plain": [
       "{'neg': 0.0, 'neu': 0.303, 'pos': 0.697, 'compound': 0.7841}"
      ]
     },
     "execution_count": 3,
     "metadata": {},
     "output_type": "execute_result"
    }
   ],
   "source": [
    "sia = SentimentIntensityAnalyzer()\n",
    "sia.polarity_scores(\"Wow, NLTK is really powerful.\")"
   ]
  },
  {
   "cell_type": "markdown",
   "id": "e6bfd251",
   "metadata": {},
   "source": [
    "Perform sentiment analysis on any 10 tweets"
   ]
  },
  {
   "cell_type": "code",
   "execution_count": 4,
   "id": "1cd07e3d",
   "metadata": {},
   "outputs": [
    {
     "name": "stdout",
     "output_type": "stream",
     "text": [
      "\u001b[32mOf course #UKIP isn't racist. As some leading lights said, they just don't like darkies, ting-tongs and people who speak a foreign language\n",
      "\u001b[31mNoooot tired :(\n",
      "\u001b[32m@HodgsonHoward @TheEgo74 @Longyman @John__Percy @AVFCTransTweet I think Tories will still be majority party but Labour will have enough to\n",
      "\u001b[31mRT @weight_loss_fb: lose weight fast http://t.co/qpov5CuqRo\n",
      "#bbc #ukip #39 #fcbgetafe #28a #bugil #it #peace #gintama\n",
      "\u001b[31m@EGirl76 @hohkyo oh no :( that’s terrible :(((\n",
      "\u001b[32mRT @CFindlaySnp15: @ChristinaSNP and Miliband has thrown eggs at the Scottish electorate tonight he'd rather a Tory gov than accept #SNP su…\n",
      "\u001b[31mI miss Chris ' voice :(\n",
      "\u001b[32mRT @GuidoFawkes: Audience:\n",
      "\n",
      "\"Do you accept that when Labour was in government it overspent?\"\n",
      "\n",
      "Miliband:\n",
      "\n",
      "\"No I don't\"\n",
      "\n",
      "There you have it fo…\n",
      "\u001b[31mRT @ruth_wishart: Home from a busy Hustings to catch up on leaders'debate. Did Miliband REALLY imply he'd rather have DC as PM than talk to…\n",
      "\u001b[31mFeeling unhappy today :-(\n"
     ]
    }
   ],
   "source": [
    "green = Fore.GREEN\n",
    "red = Fore.RED\n",
    "\n",
    "def ispositive(tweet : str) -> bool:\n",
    "    return sia.polarity_scores(tweet)[\"compound\"] > 0\n",
    "\n",
    "tweets = [tweet for tweet in twitter_samples.strings()]\n",
    "shuffle(tweets)\n",
    "\n",
    "for tweet in tweets[ : 10]:\n",
    "    color = green\n",
    "    if not ispositive(tweet):\n",
    "        color = red\n",
    "    print(f\"{color}{tweet}\")"
   ]
  }
 ],
 "metadata": {
  "kernelspec": {
   "display_name": "Python 3 (ipykernel)",
   "language": "python",
   "name": "python3"
  },
  "language_info": {
   "codemirror_mode": {
    "name": "ipython",
    "version": 3
   },
   "file_extension": ".py",
   "mimetype": "text/x-python",
   "name": "python",
   "nbconvert_exporter": "python",
   "pygments_lexer": "ipython3",
   "version": "3.7.4"
  }
 },
 "nbformat": 4,
 "nbformat_minor": 5
}
